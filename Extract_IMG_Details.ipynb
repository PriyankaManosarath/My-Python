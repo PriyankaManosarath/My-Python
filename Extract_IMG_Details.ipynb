{
 "cells": [
  {
   "cell_type": "code",
   "execution_count": 1,
   "id": "69b2b2d8",
   "metadata": {},
   "outputs": [
    {
     "name": "stdout",
     "output_type": "stream",
     "text": [
      "Requirement already satisfied: pytesseract in c:\\users\\91996\\anaconda3\\lib\\site-packages (0.3.10)\n",
      "Requirement already satisfied: packaging>=21.3 in c:\\users\\91996\\anaconda3\\lib\\site-packages (from pytesseract) (21.3)\n",
      "Requirement already satisfied: Pillow>=8.0.0 in c:\\users\\91996\\anaconda3\\lib\\site-packages (from pytesseract) (8.2.0)\n",
      "Requirement already satisfied: pyparsing!=3.0.5,>=2.0.2 in c:\\users\\91996\\anaconda3\\lib\\site-packages (from packaging>=21.3->pytesseract) (2.4.7)\n",
      "Requirement already satisfied: pillow in c:\\users\\91996\\anaconda3\\lib\\site-packages (8.2.0)\n"
     ]
    }
   ],
   "source": [
    "!pip install pytesseract\n",
    "!pip install pillow"
   ]
  },
  {
   "cell_type": "code",
   "execution_count": 2,
   "id": "a69d3644",
   "metadata": {},
   "outputs": [],
   "source": [
    "from PIL import Image\n",
    "from pytesseract import pytesseract\n",
    "import os\n",
    "import pandas as pd"
   ]
  },
  {
   "cell_type": "code",
   "execution_count": 3,
   "id": "81ac3461",
   "metadata": {},
   "outputs": [],
   "source": [
    "#Define path to tessaract.exe\n",
    "\n",
    "path_to_tesseract=r'C:\\Program Files\\Tesseract-OCR\\tesseract.exe'"
   ]
  },
  {
   "cell_type": "code",
   "execution_count": 4,
   "id": "49662b86",
   "metadata": {},
   "outputs": [],
   "source": [
    "#Define path to image\n",
    "\n",
    "path_to_images=r'images/'"
   ]
  },
  {
   "cell_type": "code",
   "execution_count": 5,
   "id": "4faf3834",
   "metadata": {},
   "outputs": [],
   "source": [
    "#Point tessaract_cmd to tessaract.exe\n",
    "\n",
    "pytesseract.tesseract_cmd = path_to_tesseract"
   ]
  },
  {
   "cell_type": "code",
   "execution_count": 6,
   "id": "40818121",
   "metadata": {},
   "outputs": [
    {
     "name": "stdout",
     "output_type": "stream",
     "text": [
      "{'level': [1, 2, 3, 4, 5, 4, 5, 5, 5, 5, 2, 3, 4, 5, 5, 2, 3, 4, 5, 5, 2, 3, 4, 5, 5, 5, 5, 2, 3, 4, 5], 'page_num': [1, 1, 1, 1, 1, 1, 1, 1, 1, 1, 1, 1, 1, 1, 1, 1, 1, 1, 1, 1, 1, 1, 1, 1, 1, 1, 1, 1, 1, 1, 1], 'block_num': [0, 1, 1, 1, 1, 1, 1, 1, 1, 1, 2, 2, 2, 2, 2, 3, 3, 3, 3, 3, 4, 4, 4, 4, 4, 4, 4, 5, 5, 5, 5], 'par_num': [0, 0, 1, 1, 1, 1, 1, 1, 1, 1, 0, 1, 1, 1, 1, 0, 1, 1, 1, 1, 0, 1, 1, 1, 1, 1, 1, 0, 1, 1, 1], 'line_num': [0, 0, 0, 1, 1, 2, 2, 2, 2, 2, 0, 0, 1, 1, 1, 0, 0, 1, 1, 1, 0, 0, 1, 1, 1, 1, 1, 0, 0, 1, 1], 'word_num': [0, 0, 0, 0, 1, 0, 1, 2, 3, 4, 0, 0, 0, 1, 2, 0, 0, 0, 1, 2, 0, 0, 0, 1, 2, 3, 4, 0, 0, 0, 1], 'left': [0, 146, 146, 146, 146, 146, 146, 285, 419, 544, 146, 146, 146, 146, 241, 146, 146, 146, 146, 249, 174, 174, 174, 170, 420, 632, 844, 83, 83, 83, 83], 'top': [0, 106, 106, 106, 106, 144, 144, 144, 144, 144, 220, 220, 220, 220, 220, 296, 296, 296, 296, 296, 431, 431, 431, 421, 421, 421, 421, 65, 65, 65, 65], 'width': [1471, 566, 566, 109, 109, 566, 122, 116, 98, 168, 316, 316, 316, 79, 221, 214, 214, 214, 86, 111, 823, 823, 823, 175, 137, 138, 153, 1310, 1310, 1310, 1310], 'height': [780, 62, 62, 24, 24, 24, 24, 24, 24, 24, 24, 24, 24, 24, 24, 24, 24, 24, 24, 24, 71, 71, 71, 91, 91, 91, 91, 654, 654, 654, 654], 'conf': [-1, -1, -1, -1, 96, -1, 96, 96, 93, 90, -1, -1, -1, 92, 92, -1, -1, -1, 95, 95, -1, -1, -1, 28, 24, 66, 47, -1, -1, -1, 95], 'text': ['', '', '', '', 'INDIA', '', 'Device', 'Name:', 'Pulse', 'Oximeter', '', '', '', 'REF', 'NML903055', '', '', '', 'LOT:', '34683', '', '', '', 'Cla', 'ay.', 'Zo', '@®', '', '', '', '']}\n",
      "{'level': [1, 2, 3, 4, 5, 4, 5, 5, 5, 5, 2, 3, 4, 5, 5, 2, 3, 4, 5, 5, 2, 3, 4, 5, 2, 3, 4, 5, 2, 3, 4, 5], 'page_num': [1, 1, 1, 1, 1, 1, 1, 1, 1, 1, 1, 1, 1, 1, 1, 1, 1, 1, 1, 1, 1, 1, 1, 1, 1, 1, 1, 1, 1, 1, 1, 1], 'block_num': [0, 1, 1, 1, 1, 1, 1, 1, 1, 1, 2, 2, 2, 2, 2, 3, 3, 3, 3, 3, 4, 4, 4, 4, 5, 5, 5, 5, 6, 6, 6, 6], 'par_num': [0, 0, 1, 1, 1, 1, 1, 1, 1, 1, 0, 1, 1, 1, 1, 0, 1, 1, 1, 1, 0, 1, 1, 1, 0, 1, 1, 1, 0, 1, 1, 1], 'line_num': [0, 0, 0, 1, 1, 2, 2, 2, 2, 2, 0, 0, 1, 1, 1, 0, 0, 1, 1, 1, 0, 0, 1, 1, 0, 0, 1, 1, 0, 0, 1, 1], 'word_num': [0, 0, 0, 0, 1, 0, 1, 2, 3, 4, 0, 0, 0, 1, 2, 0, 0, 0, 1, 2, 0, 0, 0, 1, 0, 0, 0, 1, 0, 0, 0, 1], 'left': [0, 142, 142, 142, 142, 143, 143, 278, 409, 521, 143, 143, 143, 143, 235, 143, 143, 143, 143, 243, 178, 178, 178, 178, 324, 324, 324, 324, 81, 81, 81, 81], 'top': [0, 104, 104, 104, 104, 141, 141, 141, 141, 141, 215, 215, 215, 215, 215, 289, 289, 289, 289, 289, 444, 444, 444, 444, 427, 427, 427, 427, 64, 64, 64, 64], 'width': [1436, 523, 523, 106, 106, 522, 119, 113, 98, 144, 309, 309, 309, 76, 217, 203, 203, 203, 84, 103, 120, 120, 120, 120, 2, 2, 2, 2, 1279, 1279, 1279, 1279], 'height': [761, 60, 60, 23, 23, 23, 23, 23, 23, 23, 23, 23, 23, 23, 23, 23, 23, 23, 23, 23, 24, 24, 24, 24, 58, 58, 58, 58, 637, 637, 637, 637], 'conf': [-1, -1, -1, -1, 96, -1, 96, 95, 96, 96, -1, -1, -1, 93, 91, -1, -1, -1, 95, 96, -1, -1, -1, 96, -1, -1, -1, 95, -1, -1, -1, 95], 'text': ['', '', '', '', 'INDIA', '', 'Device', 'Name:', 'Blood', 'Warmer', '', '', '', 'REF', 'NML903090', '', '', '', 'LOT:', '34641', '', '', '', 'STERILE', '', '', '', ' ', '', '', '', '']}\n",
      "{'level': [1, 2, 3, 4, 5, 4, 5, 5, 5, 5, 2, 3, 4, 5, 5, 2, 3, 4, 5, 5, 2, 3, 4, 5, 2, 3, 4, 5, 2, 3, 4, 5], 'page_num': [1, 1, 1, 1, 1, 1, 1, 1, 1, 1, 1, 1, 1, 1, 1, 1, 1, 1, 1, 1, 1, 1, 1, 1, 1, 1, 1, 1, 1, 1, 1, 1], 'block_num': [0, 1, 1, 1, 1, 1, 1, 1, 1, 1, 2, 2, 2, 2, 2, 3, 3, 3, 3, 3, 4, 4, 4, 4, 5, 5, 5, 5, 6, 6, 6, 6], 'par_num': [0, 0, 1, 1, 1, 1, 1, 1, 1, 1, 0, 1, 1, 1, 1, 0, 1, 1, 1, 1, 0, 1, 1, 1, 0, 1, 1, 1, 0, 1, 1, 1], 'line_num': [0, 0, 0, 1, 1, 2, 2, 2, 2, 2, 0, 0, 1, 1, 1, 0, 0, 1, 1, 1, 0, 0, 1, 1, 0, 0, 1, 1, 0, 0, 1, 1], 'word_num': [0, 0, 0, 0, 1, 0, 1, 2, 3, 4, 0, 0, 0, 1, 2, 0, 0, 0, 1, 2, 0, 0, 0, 1, 0, 0, 0, 1, 0, 0, 0, 1], 'left': [0, 143, 143, 143, 143, 143, 143, 278, 408, 545, 143, 143, 143, 143, 235, 143, 143, 143, 143, 243, 178, 178, 178, 178, 324, 324, 324, 324, 81, 81, 81, 81], 'top': [0, 104, 104, 104, 104, 141, 141, 141, 141, 141, 215, 215, 215, 215, 215, 289, 289, 289, 289, 289, 444, 444, 444, 444, 427, 427, 427, 427, 64, 64, 64, 64], 'width': [1436, 552, 552, 80, 80, 552, 119, 113, 112, 150, 309, 309, 309, 76, 217, 209, 209, 209, 84, 109, 120, 120, 120, 120, 2, 2, 2, 2, 1279, 1279, 1279, 1279], 'height': [761, 66, 66, 23, 23, 29, 23, 23, 29, 23, 23, 23, 23, 23, 23, 23, 23, 23, 23, 23, 24, 24, 24, 24, 58, 58, 58, 58, 637, 637, 637, 637], 'conf': [-1, -1, -1, -1, 95, -1, 96, 93, 89, 96, -1, -1, -1, 93, 91, -1, -1, -1, 96, 95, -1, -1, -1, 96, -1, -1, -1, 95, -1, -1, -1, 95], 'text': ['', '', '', '', 'USA', '', 'Device', 'Name:', 'C-Pap', 'Machine', '', '', '', 'REF', 'NML903105', '', '', '', 'LOT:', '34662', '', '', '', 'STERILE', '', '', '', ' ', '', '', '', '']}\n",
      "{'level': [1, 2, 3, 4, 5, 4, 5, 5, 5, 5, 2, 3, 4, 5, 5, 2, 3, 4, 5, 5, 2, 3, 4, 5], 'page_num': [1, 1, 1, 1, 1, 1, 1, 1, 1, 1, 1, 1, 1, 1, 1, 1, 1, 1, 1, 1, 1, 1, 1, 1], 'block_num': [0, 1, 1, 1, 1, 1, 1, 1, 1, 1, 2, 2, 2, 2, 2, 3, 3, 3, 3, 3, 4, 4, 4, 4], 'par_num': [0, 0, 1, 1, 1, 1, 1, 1, 1, 1, 0, 1, 1, 1, 1, 0, 1, 1, 1, 1, 0, 1, 1, 1], 'line_num': [0, 0, 0, 1, 1, 2, 2, 2, 2, 2, 0, 0, 1, 1, 1, 0, 0, 1, 1, 1, 0, 0, 1, 1], 'word_num': [0, 0, 0, 0, 1, 0, 1, 2, 3, 4, 0, 0, 0, 1, 2, 0, 0, 0, 1, 2, 0, 0, 0, 1], 'left': [0, 146, 146, 146, 146, 146, 146, 285, 419, 520, 146, 146, 146, 146, 241, 146, 146, 146, 146, 249, 83, 83, 83, 83], 'top': [0, 106, 106, 106, 106, 144, 144, 144, 144, 144, 220, 220, 220, 220, 220, 296, 296, 296, 296, 296, 65, 65, 65, 65], 'width': [1471, 526, 526, 84, 84, 526, 122, 116, 85, 152, 316, 316, 316, 79, 221, 214, 214, 214, 86, 111, 1310, 1310, 1310, 1310], 'height': [780, 62, 62, 24, 24, 24, 24, 24, 24, 24, 24, 24, 24, 24, 24, 24, 24, 24, 24, 24, 654, 654, 654, 654], 'conf': [-1, -1, -1, -1, 96, -1, 96, 96, 95, 96, -1, -1, -1, 92, 90, -1, -1, -1, 96, 96, -1, -1, -1, 95], 'text': ['', '', '', '', 'USA', '', 'Device', 'Name:', 'ECG', 'Machine', '', '', '', 'REF', 'NML903060', '', '', '', 'LOT:', '34690', '', '', '', '']}\n",
      "{'level': [1, 2, 3, 4, 5, 4, 5, 5, 5, 5, 2, 3, 4, 5, 5, 2, 3, 4, 5, 5, 2, 3, 4, 5, 2, 3, 4, 5], 'page_num': [1, 1, 1, 1, 1, 1, 1, 1, 1, 1, 1, 1, 1, 1, 1, 1, 1, 1, 1, 1, 1, 1, 1, 1, 1, 1, 1, 1], 'block_num': [0, 1, 1, 1, 1, 1, 1, 1, 1, 1, 2, 2, 2, 2, 2, 3, 3, 3, 3, 3, 4, 4, 4, 4, 5, 5, 5, 5], 'par_num': [0, 0, 1, 1, 1, 1, 1, 1, 1, 1, 0, 1, 1, 1, 1, 0, 1, 1, 1, 1, 0, 1, 1, 1, 0, 1, 1, 1], 'line_num': [0, 0, 0, 1, 1, 2, 2, 2, 2, 2, 0, 0, 1, 1, 1, 0, 0, 1, 1, 1, 0, 0, 1, 1, 0, 0, 1, 1], 'word_num': [0, 0, 0, 0, 1, 0, 1, 2, 3, 4, 0, 0, 0, 1, 2, 0, 0, 0, 1, 2, 0, 0, 0, 1, 0, 0, 0, 1], 'left': [0, 143, 143, 143, 143, 143, 143, 278, 409, 531, 143, 143, 143, 143, 235, 143, 143, 143, 143, 243, 324, 324, 324, 324, 81, 81, 81, 81], 'top': [0, 104, 104, 104, 104, 141, 141, 141, 141, 141, 215, 215, 215, 215, 215, 289, 289, 289, 289, 289, 427, 427, 427, 427, 64, 64, 64, 64], 'width': [1436, 538, 538, 51, 51, 538, 119, 113, 108, 150, 309, 309, 309, 76, 217, 209, 209, 209, 84, 109, 2, 2, 2, 2, 1279, 1279, 1279, 1279], 'height': [761, 60, 60, 23, 23, 23, 23, 23, 23, 23, 23, 23, 23, 23, 23, 23, 23, 23, 23, 23, 58, 58, 58, 58, 637, 637, 637, 637], 'conf': [-1, -1, -1, -1, 91, -1, 96, 91, 91, 96, -1, -1, -1, 93, 90, -1, -1, -1, 95, 96, -1, -1, -1, 95, -1, -1, -1, 95], 'text': ['', '', '', '', 'EU', '', 'Device', 'Name:', 'HFNC', 'Machine', '', '', '', 'REF', 'NML903095', '', '', '', 'LOT:', '34648', '', '', '', ' ', '', '', '', '']}\n",
      "{'level': [1, 2, 3, 4, 5, 4, 5, 5, 5, 5, 2, 3, 4, 5, 5, 2, 3, 4, 5, 5, 2, 3, 4, 5], 'page_num': [1, 1, 1, 1, 1, 1, 1, 1, 1, 1, 1, 1, 1, 1, 1, 1, 1, 1, 1, 1, 1, 1, 1, 1], 'block_num': [0, 1, 1, 1, 1, 1, 1, 1, 1, 1, 2, 2, 2, 2, 2, 3, 3, 3, 3, 3, 4, 4, 4, 4], 'par_num': [0, 0, 1, 1, 1, 1, 1, 1, 1, 1, 0, 1, 1, 1, 1, 0, 1, 1, 1, 1, 0, 1, 1, 1], 'line_num': [0, 0, 0, 1, 1, 2, 2, 2, 2, 2, 0, 0, 1, 1, 1, 0, 0, 1, 1, 1, 0, 0, 1, 1], 'word_num': [0, 0, 0, 0, 1, 0, 1, 2, 3, 4, 0, 0, 0, 1, 2, 0, 0, 0, 1, 2, 0, 0, 0, 1], 'left': [0, 146, 146, 146, 146, 146, 146, 285, 420, 575, 146, 146, 146, 146, 241, 146, 146, 146, 146, 249, 83, 83, 83, 83], 'top': [0, 106, 106, 106, 106, 144, 144, 144, 144, 144, 220, 220, 220, 220, 220, 296, 296, 296, 296, 296, 65, 65, 65, 65], 'width': [1471, 534, 534, 52, 52, 534, 122, 116, 138, 105, 316, 316, 316, 79, 221, 214, 214, 214, 86, 111, 1310, 1310, 1310, 1310], 'height': [780, 69, 69, 24, 24, 31, 24, 24, 24, 31, 24, 24, 24, 24, 24, 24, 24, 24, 24, 24, 654, 654, 654, 654], 'conf': [-1, -1, -1, -1, 88, -1, 96, 96, 96, 96, -1, -1, -1, 92, 91, -1, -1, -1, 96, 96, -1, -1, -1, 95], 'text': ['', '', '', '', 'EU', '', 'Device', 'Name:', 'Infusion', 'Pump', '', '', '', 'REF', 'NML903065', '', '', '', 'LOT:', '34697', '', '', '', '']}\n"
     ]
    },
    {
     "name": "stdout",
     "output_type": "stream",
     "text": [
      "{'level': [1, 2, 3, 4, 5, 4, 5, 5, 5, 5, 2, 3, 4, 5, 5, 2, 3, 4, 5, 5, 2, 3, 4, 5, 2, 3, 4, 5, 2, 3, 4, 5], 'page_num': [1, 1, 1, 1, 1, 1, 1, 1, 1, 1, 1, 1, 1, 1, 1, 1, 1, 1, 1, 1, 1, 1, 1, 1, 1, 1, 1, 1, 1, 1, 1, 1], 'block_num': [0, 1, 1, 1, 1, 1, 1, 1, 1, 1, 2, 2, 2, 2, 2, 3, 3, 3, 3, 3, 4, 4, 4, 4, 5, 5, 5, 5, 6, 6, 6, 6], 'par_num': [0, 0, 1, 1, 1, 1, 1, 1, 1, 1, 0, 1, 1, 1, 1, 0, 1, 1, 1, 1, 0, 1, 1, 1, 0, 1, 1, 1, 0, 1, 1, 1], 'line_num': [0, 0, 0, 1, 1, 2, 2, 2, 2, 2, 0, 0, 1, 1, 1, 0, 0, 1, 1, 1, 0, 0, 1, 1, 0, 0, 1, 1, 0, 0, 1, 1], 'word_num': [0, 0, 0, 0, 1, 0, 1, 2, 3, 4, 0, 0, 0, 1, 2, 0, 0, 0, 1, 2, 0, 0, 0, 1, 0, 0, 0, 1, 0, 0, 0, 1], 'left': [0, 137, 137, 137, 137, 137, 137, 266, 391, 503, 137, 137, 137, 137, 225, 137, 137, 137, 137, 232, 170, 170, 170, 170, 309, 309, 309, 309, 78, 78, 78, 78], 'top': [0, 106, 106, 106, 106, 144, 144, 144, 144, 144, 260, 260, 260, 260, 260, 336, 336, 336, 336, 336, 495, 495, 495, 495, 478, 478, 478, 478, 65, 65, 65, 65], 'width': [1371, 491, 491, 47, 47, 491, 113, 106, 85, 125, 294, 294, 294, 72, 206, 199, 199, 199, 78, 104, 114, 114, 114, 114, 2, 2, 2, 2, 1221, 1221, 1221, 1221], 'height': [780, 62, 62, 24, 24, 24, 24, 24, 24, 24, 24, 24, 24, 24, 24, 24, 24, 24, 24, 24, 25, 25, 25, 25, 59, 59, 59, 59, 654, 654, 654, 654], 'conf': [-1, -1, -1, -1, 94, -1, 95, 95, 66, 84, -1, -1, -1, 92, 63, -1, -1, -1, 96, 96, -1, -1, -1, 96, -1, -1, -1, 95, -1, -1, -1, 95], 'text': ['', '', '', '', 'EU', '', 'Device', 'Name:', 'NIBP', 'Monitor', '', '', '', 'REF', 'NML903050', '', '', '', 'LOT:', '34676', '', '', '', 'STERILE', '', '', '', ' ', '', '', '', '']}\n"
     ]
    }
   ],
   "source": [
    "#Get the file names in the directory\n",
    "dfa = pd.DataFrame([])\n",
    "for root, dirs, file_names in os.walk(path_to_images):\n",
    "    #Iterate over each file name in the folder\n",
    "    for file_name in file_names:\n",
    "        #Open image with PIL\n",
    "        img = Image.open(path_to_images + file_name)\n",
    "        \n",
    "         #Extract text from image\n",
    "        df= pytesseract.image_to_data(img, lang='eng', config='',output_type='dict',pandas_config={'keep_default_na': True, 'na_values': [\"nan\"]})\n",
    "        text_1 = pytesseract.image_to_string(img)\n",
    "        new_my_dict=[df['text']]\n",
    "        dfq = pd.DataFrame.from_dict(new_my_dict) \n",
    "       # df=df.append(dfq)\n",
    "        \n",
    "        print(df)\n",
    "        dfa=dfa.append(dfq)\n",
    "      #  print(dfq[8],dfq[9])\n"
   ]
  },
  {
   "cell_type": "code",
   "execution_count": 7,
   "id": "e6965b92",
   "metadata": {},
   "outputs": [
    {
     "ename": "PermissionError",
     "evalue": "[Errno 13] Permission denied: 'raw_dataframe.csv'",
     "output_type": "error",
     "traceback": [
      "\u001b[1;31m---------------------------------------------------------------------------\u001b[0m",
      "\u001b[1;31mPermissionError\u001b[0m                           Traceback (most recent call last)",
      "\u001b[1;32m<ipython-input-7-6915363378da>\u001b[0m in \u001b[0;36m<module>\u001b[1;34m\u001b[0m\n\u001b[1;32m----> 1\u001b[1;33m \u001b[0mdfa\u001b[0m\u001b[1;33m.\u001b[0m\u001b[0mto_csv\u001b[0m\u001b[1;33m(\u001b[0m\u001b[1;34m'raw_dataframe.csv'\u001b[0m\u001b[1;33m,\u001b[0m \u001b[0mindex\u001b[0m\u001b[1;33m=\u001b[0m\u001b[1;32mFalse\u001b[0m\u001b[1;33m)\u001b[0m\u001b[1;33m\u001b[0m\u001b[1;33m\u001b[0m\u001b[0m\n\u001b[0m",
      "\u001b[1;32m~\\anaconda3\\lib\\site-packages\\pandas\\core\\generic.py\u001b[0m in \u001b[0;36mto_csv\u001b[1;34m(self, path_or_buf, sep, na_rep, float_format, columns, header, index, index_label, mode, encoding, compression, quoting, quotechar, line_terminator, chunksize, date_format, doublequote, escapechar, decimal, errors, storage_options)\u001b[0m\n\u001b[0;32m   3385\u001b[0m         )\n\u001b[0;32m   3386\u001b[0m \u001b[1;33m\u001b[0m\u001b[0m\n\u001b[1;32m-> 3387\u001b[1;33m         return DataFrameRenderer(formatter).to_csv(\n\u001b[0m\u001b[0;32m   3388\u001b[0m             \u001b[0mpath_or_buf\u001b[0m\u001b[1;33m,\u001b[0m\u001b[1;33m\u001b[0m\u001b[1;33m\u001b[0m\u001b[0m\n\u001b[0;32m   3389\u001b[0m             \u001b[0mline_terminator\u001b[0m\u001b[1;33m=\u001b[0m\u001b[0mline_terminator\u001b[0m\u001b[1;33m,\u001b[0m\u001b[1;33m\u001b[0m\u001b[1;33m\u001b[0m\u001b[0m\n",
      "\u001b[1;32m~\\anaconda3\\lib\\site-packages\\pandas\\io\\formats\\format.py\u001b[0m in \u001b[0;36mto_csv\u001b[1;34m(self, path_or_buf, encoding, sep, columns, index_label, mode, compression, quoting, quotechar, line_terminator, chunksize, date_format, doublequote, escapechar, errors, storage_options)\u001b[0m\n\u001b[0;32m   1081\u001b[0m             \u001b[0mformatter\u001b[0m\u001b[1;33m=\u001b[0m\u001b[0mself\u001b[0m\u001b[1;33m.\u001b[0m\u001b[0mfmt\u001b[0m\u001b[1;33m,\u001b[0m\u001b[1;33m\u001b[0m\u001b[1;33m\u001b[0m\u001b[0m\n\u001b[0;32m   1082\u001b[0m         )\n\u001b[1;32m-> 1083\u001b[1;33m         \u001b[0mcsv_formatter\u001b[0m\u001b[1;33m.\u001b[0m\u001b[0msave\u001b[0m\u001b[1;33m(\u001b[0m\u001b[1;33m)\u001b[0m\u001b[1;33m\u001b[0m\u001b[1;33m\u001b[0m\u001b[0m\n\u001b[0m\u001b[0;32m   1084\u001b[0m \u001b[1;33m\u001b[0m\u001b[0m\n\u001b[0;32m   1085\u001b[0m         \u001b[1;32mif\u001b[0m \u001b[0mcreated_buffer\u001b[0m\u001b[1;33m:\u001b[0m\u001b[1;33m\u001b[0m\u001b[1;33m\u001b[0m\u001b[0m\n",
      "\u001b[1;32m~\\anaconda3\\lib\\site-packages\\pandas\\io\\formats\\csvs.py\u001b[0m in \u001b[0;36msave\u001b[1;34m(self)\u001b[0m\n\u001b[0;32m    226\u001b[0m         \"\"\"\n\u001b[0;32m    227\u001b[0m         \u001b[1;31m# apply compression and byte/text conversion\u001b[0m\u001b[1;33m\u001b[0m\u001b[1;33m\u001b[0m\u001b[1;33m\u001b[0m\u001b[0m\n\u001b[1;32m--> 228\u001b[1;33m         with get_handle(\n\u001b[0m\u001b[0;32m    229\u001b[0m             \u001b[0mself\u001b[0m\u001b[1;33m.\u001b[0m\u001b[0mfilepath_or_buffer\u001b[0m\u001b[1;33m,\u001b[0m\u001b[1;33m\u001b[0m\u001b[1;33m\u001b[0m\u001b[0m\n\u001b[0;32m    230\u001b[0m             \u001b[0mself\u001b[0m\u001b[1;33m.\u001b[0m\u001b[0mmode\u001b[0m\u001b[1;33m,\u001b[0m\u001b[1;33m\u001b[0m\u001b[1;33m\u001b[0m\u001b[0m\n",
      "\u001b[1;32m~\\anaconda3\\lib\\site-packages\\pandas\\io\\common.py\u001b[0m in \u001b[0;36mget_handle\u001b[1;34m(path_or_buf, mode, encoding, compression, memory_map, is_text, errors, storage_options)\u001b[0m\n\u001b[0;32m    640\u001b[0m                 \u001b[0merrors\u001b[0m \u001b[1;33m=\u001b[0m \u001b[1;34m\"replace\"\u001b[0m\u001b[1;33m\u001b[0m\u001b[1;33m\u001b[0m\u001b[0m\n\u001b[0;32m    641\u001b[0m             \u001b[1;31m# Encoding\u001b[0m\u001b[1;33m\u001b[0m\u001b[1;33m\u001b[0m\u001b[1;33m\u001b[0m\u001b[0m\n\u001b[1;32m--> 642\u001b[1;33m             handle = open(\n\u001b[0m\u001b[0;32m    643\u001b[0m                 \u001b[0mhandle\u001b[0m\u001b[1;33m,\u001b[0m\u001b[1;33m\u001b[0m\u001b[1;33m\u001b[0m\u001b[0m\n\u001b[0;32m    644\u001b[0m                 \u001b[0mioargs\u001b[0m\u001b[1;33m.\u001b[0m\u001b[0mmode\u001b[0m\u001b[1;33m,\u001b[0m\u001b[1;33m\u001b[0m\u001b[1;33m\u001b[0m\u001b[0m\n",
      "\u001b[1;31mPermissionError\u001b[0m: [Errno 13] Permission denied: 'raw_dataframe.csv'"
     ]
    }
   ],
   "source": [
    "dfa.to_csv('raw_dataframe.csv', index=False)"
   ]
  },
  {
   "cell_type": "code",
   "execution_count": null,
   "id": "405db3d3",
   "metadata": {},
   "outputs": [],
   "source": [
    "#data_cleaned=pd.Dataframe([])\n",
    "data_cleaned=dfa[[8,9,14,19]].copy()"
   ]
  },
  {
   "cell_type": "code",
   "execution_count": null,
   "id": "682ced3e",
   "metadata": {},
   "outputs": [],
   "source": [
    "data_cleaned['Device Name']= data_cleaned[8]+ \" \"+ data_cleaned[9]"
   ]
  },
  {
   "cell_type": "code",
   "execution_count": null,
   "id": "05b73cb5",
   "metadata": {},
   "outputs": [],
   "source": [
    "data_cleaned =~data_cleaned.rename(columns={14 : 'REF', 19 : 'LOT' })"
   ]
  },
  {
   "cell_type": "code",
   "execution_count": null,
   "id": "d11a296c",
   "metadata": {},
   "outputs": [],
   "source": [
    "data_cleaned.drop([8,9], axis=1)\n",
    "dfa.to_csv('raw_dataframe.csv', index=False)"
   ]
  }
 ],
 "metadata": {
  "kernelspec": {
   "display_name": "Python 3",
   "language": "python",
   "name": "python3"
  },
  "language_info": {
   "codemirror_mode": {
    "name": "ipython",
    "version": 3
   },
   "file_extension": ".py",
   "mimetype": "text/x-python",
   "name": "python",
   "nbconvert_exporter": "python",
   "pygments_lexer": "ipython3",
   "version": "3.8.8"
  }
 },
 "nbformat": 4,
 "nbformat_minor": 5
}
